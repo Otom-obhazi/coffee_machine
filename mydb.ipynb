MENU = {
    "expresso": {
        "ingredients": {
            "water": 50,
            "coffee": 18,
        },
        "cost": 1.5,
    },
    "latte": {
        "ingredients": {
            "water": 200,
            "milk": 150,
            "coffee": 24,
        },
        "cost": 2.5,
    }
}

profit = 0

Resource = {
    "water": 300,
    "milk": 120,
    "coffee": 100,
}

def is_resource_enough(order_ingredients):
    """return true when order can be made and false whe ingredient are not enough"""
    for item in order_ingredients:
        if order_ingredients[item] >= Resource[item]:
            print(f"Sorry there is not enough {item}.")
            return False
    return True


def process_money():
    """returns total for coin (money) inserted"""
    print("insert money")
    total = int(input("how mway quarters?: ")) * 0.25
    total += int(input("how mway dimes?: ")) * 0.1
    total += int(input("how mway pennies?: ")) * 0.05
    total += int(input("how mway nickles?: ")) * 0.01
    return total

def transaction_success(money_recieved, drink_cost):
    """return true when transaction is successfull and false when money 
    is not enough"""
    if money_recieved >= drink_cost:
        change = round(money_recieved - drink_cost, 2)
        print(f"Here is ${change}, your change")
        global profit 
        profit += drink_cost
        return True
    else:
        print("Sorry that's not enough money. Money refunded.")
        return False


def make_coffee(drink_name, order_ingredients):
    """deduct the required ingredient for the resources"""
    for item in order_ingredients:
        Resource[item] -= order_ingredients[item]
    print(f"here is your {drink_name}")


is_on = True

while is_on:
    choice = input("What would you like? (espresso/latte/cappuccino):")
    if choice == "off":
        is_on = False
    elif choice == "report":
        print(f"Water: {Resource["water"]}ml")
        print(f"Milk: {Resource["milk"]}ml")
        print(f"Coffee: {Resource['coffee']}g")
        print(f"Money: ${profit}")
    else:
        drink = MENU[choice]
        if is_resource_enough(drink["ingredients"]):
            payment = process_money()
            if transaction_success(payment, drink['cost']):
                make_coffee(choice, drink["ingredients"])
